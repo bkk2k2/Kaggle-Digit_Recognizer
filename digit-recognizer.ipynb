{
 "cells": [
  {
   "cell_type": "code",
   "execution_count": 10,
   "metadata": {
    "_cell_guid": "b1076dfc-b9ad-4769-8c92-a6c4dae69d19",
    "_uuid": "8f2839f25d086af736a60e9eeb907d3b93b6e0e5"
   },
   "outputs": [],
   "source": [
    "# This Python 3 environment comes with many helpful analytics libraries installed\n",
    "# It is defined by the kaggle/python Docker image: https://github.com/kaggle/docker-python\n",
    "# For example, here's several helpful packages to load\n",
    "\n",
    "import numpy as np # linear algebra\n",
    "import pandas as pd # data processing, CSV file I/O (e.g. pd.read_csv)\n",
    "\n",
    "# Input data files are available in the read-only \"../input/\" directory\n",
    "# For example, running this (by clicking run or pressing Shift+Enter) will list all files under the input directory\n",
    "\n",
    "# You can write up to 5GB to the current directory (/kaggle/working/) that gets preserved as output when you create a version using \"Save & Run All\" \n",
    "# You can also write temporary files to /kaggle/temp/, but they won't be saved outside of the current session"
   ]
  },
  {
   "cell_type": "code",
   "execution_count": 11,
   "metadata": {},
   "outputs": [],
   "source": [
    "#get data\n",
    "train_data = pd.read_csv('./train.csv')\n",
    "test_data = pd.read_csv('./test.csv')\n",
    "\n",
    "y = train_data.label\n",
    "X = train_data.drop(['label'],axis=1)\n",
    "\n",
    "from sklearn.model_selection import train_test_split\n",
    "\n",
    "X_train, X_val, y_train, y_val = train_test_split(X, y, random_state=1)\n",
    "\n",
    "X_train = X_train/255\n",
    "X_val = X_val/255\n",
    "test_data = test_data/255\n",
    "\n",
    "X_train = X_train.to_numpy().reshape(31500,28,28,1)\n",
    "\n",
    "X_val = X_val.to_numpy().reshape(10500,28,28,1)\n",
    "\n",
    "X_test = test_data.to_numpy().reshape(28000,28,28,1)"
   ]
  },
  {
   "cell_type": "code",
   "execution_count": 12,
   "metadata": {},
   "outputs": [
    {
     "name": "stdout",
     "output_type": "stream",
     "text": [
      "Epoch 1/10\n",
      "985/985 [==============================] - 10s 11ms/step - loss: 0.2160 - accuracy: 0.9348 - val_loss: 0.0905 - val_accuracy: 0.9719\n",
      "Epoch 2/10\n",
      "985/985 [==============================] - 9s 9ms/step - loss: 0.0632 - accuracy: 0.9795 - val_loss: 0.0567 - val_accuracy: 0.9828\n",
      "Epoch 3/10\n",
      "985/985 [==============================] - 9s 9ms/step - loss: 0.0459 - accuracy: 0.9855 - val_loss: 0.0559 - val_accuracy: 0.9833\n",
      "Epoch 4/10\n",
      "985/985 [==============================] - 9s 9ms/step - loss: 0.0335 - accuracy: 0.9894 - val_loss: 0.0448 - val_accuracy: 0.9864\n",
      "Epoch 5/10\n",
      "985/985 [==============================] - 10s 10ms/step - loss: 0.0252 - accuracy: 0.9920 - val_loss: 0.0436 - val_accuracy: 0.9879\n"
     ]
    }
   ],
   "source": [
    "#model\n",
    "import tensorflow as tf\n",
    "\n",
    "class myCallback(tf.keras.callbacks.Callback):\n",
    "    def on_epoch_end(self, epoch, logs={}):\n",
    "        if(logs.get('accuracy')>0.99):\n",
    "            self.model.stop_training = True\n",
    "            \n",
    "callbacks = myCallback()\n",
    "\n",
    "model = tf.keras.Sequential([\n",
    "    tf.keras.layers.Conv2D(16, (3,3), activation='relu', input_shape=(28,28,1)),\n",
    "    tf.keras.layers.MaxPooling2D(2,2),\n",
    "    tf.keras.layers.Conv2D(32, (3,3), activation='relu'),\n",
    "    tf.keras.layers.MaxPooling2D(2,2),\n",
    "    tf.keras.layers.Flatten(),\n",
    "    tf.keras.layers.Dense(128, activation='relu'),\n",
    "    tf.keras.layers.Dense(10, activation='softmax')\n",
    "])\n",
    "\n",
    "model.compile(optimizer='adam', loss='sparse_categorical_crossentropy', metrics=['accuracy'])\n",
    "\n",
    "history = model.fit(X_train, y_train.to_numpy(), epochs= 10, validation_data=(X_val,y_val.to_numpy()), callbacks=[callbacks])"
   ]
  },
  {
   "cell_type": "code",
   "execution_count": 13,
   "metadata": {},
   "outputs": [],
   "source": [
    "#predictions to a csv file\n",
    "preds = model.predict(X_test)\n",
    "out = np.argmax(preds, axis=1)\n",
    "\n",
    "output = pd.DataFrame({'ImageId':test_data.index+1,'Label':out})\n",
    "\n",
    "output.to_csv('submission.csv', index=False)"
   ]
  }
 ],
 "metadata": {
  "kernelspec": {
   "display_name": "Python 3",
   "language": "python",
   "name": "python3"
  },
  "language_info": {
   "codemirror_mode": {
    "name": "ipython",
    "version": 3
   },
   "file_extension": ".py",
   "mimetype": "text/x-python",
   "name": "python",
   "nbconvert_exporter": "python",
   "pygments_lexer": "ipython3",
   "version": "3.6.9"
  }
 },
 "nbformat": 4,
 "nbformat_minor": 4
}
